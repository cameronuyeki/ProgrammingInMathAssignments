{
 "cells": [
  {
   "cell_type": "code",
   "execution_count": 1,
   "id": "cf6471d7",
   "metadata": {},
   "outputs": [],
   "source": [
    "import numpy as np\n",
    "import matplotlib.pyplot as plt\n",
    "%matplotlib inline"
   ]
  },
  {
   "cell_type": "markdown",
   "id": "421e93f1",
   "metadata": {},
   "source": [
    "# Assignment 1.2"
   ]
  },
  {
   "cell_type": "markdown",
   "id": "df0700de",
   "metadata": {},
   "source": [
    "**Problem 1** - 2pts each\n",
    "\n",
    "1a.  What does the Python code \n",
    "\n",
    "`print(np.linspace(0,1,11))` \n",
    "\n",
    "do?  (To answer this run the code and then briefly explain the result.)\n",
    "\n",
    "1b. What does the Python code \n",
    "\n",
    "`print(np.linspace(0,1,10))` \n",
    "\n",
    "do? (To answer this run the code and then briefly explain the result.)"
   ]
  },
  {
   "cell_type": "code",
   "execution_count": 2,
   "id": "9d81ca02",
   "metadata": {},
   "outputs": [
    {
     "name": "stdout",
     "output_type": "stream",
     "text": [
      "[0.  0.1 0.2 0.3 0.4 0.5 0.6 0.7 0.8 0.9 1. ]\n",
      "[ 0.  1.  2.  3.  4.  5.  6.  7.  8.  9. 10.]\n"
     ]
    }
   ],
   "source": [
    "print(np.linspace(0,1,11))\n",
    "print(np.linspace(0,10,11))"
   ]
  },
  {
   "cell_type": "markdown",
   "id": "35ad72ce",
   "metadata": {},
   "source": [
    "_Answers to Problem 1_ \n",
    "1a. Basically this code is saying that there are two end points. the first point (left) is 0, while the second point (right) is 1. The number 11 represents the number of points that are spaced between 0 and 1, and/or 10 intervals, with steps of 0.1. \n",
    "\n",
    "1b. The second code has the same purpose but prints 10 points with the first point (left) is 0 and the second point (right) is 1. So basically, it'll print 10 points spaced between 0 and 1, with steps of 1. "
   ]
  },
  {
   "cell_type": "markdown",
   "id": "36bce2e9",
   "metadata": {},
   "source": [
    "**Problem 2**: (2pts for each part) When we write \n",
    "    \n",
    "` \n",
    "xvals = np.linspace(a,b,int(n)+1)\n",
    "`\n",
    "\n",
    "we are generating a sequence of points $x_{j}$ such that \n",
    "\n",
    "$$\n",
    "\\mbox{xvals[j]} = x_{j}, ~ x_{j} = a + j\\delta x, ~ \\delta x = \\frac{b-a}{n}, ~ j=0,\\cdots,n.\n",
    "$$\n",
    "\n",
    "Thus, if I wanted to generate a sequence of points between $a=1$ and $b=9$ with spacing $\\delta x=.25$, then I would find \n",
    "\n",
    "$$\n",
    ".25 = \\frac{9-1}{n}\n",
    "$$\n",
    "\n",
    "so that $n = 32$.  I could then generate these points via the code\n",
    "\n",
    "`\n",
    "xvals = np.linspace(1.,9.,32 + 1)\n",
    "`\n",
    "\n",
    "Using the model, write the code which will generate\n",
    "\n",
    "2a) A sequence of points between $a=0$ and $b=10$ with spacing $\\delta x = 10^{-3}$.\n",
    "\n",
    "2b) A sequence of points between $a=2$ and $b=18$ with spacing $\\delta x = 2^{-m}$, where $m$ is a positive integer that a user would specify.  \n",
    "\n",
    "2c) From problem 1a, using array slicing, what code would I write to find the points $x_{j}$ such that $1\\leq x_{j} \\leq 9$?  Your answer should be in the form `xvals[n1:n2]` where `n1` and `n2` are two integers you must find.  \n",
    "\n",
    "2d) From problem 1b, using array slicing, what code would I write to find the points $x_{j}$ such that $6\\leq x_{j} \\leq 10$?  Your answer should be in the form `xvals[n1:n2]` where `n1` and `n2` are two integers you must find, though they will be in terms of $m$.    \n"
   ]
  },
  {
   "cell_type": "code",
   "execution_count": 3,
   "id": "b2cc7f79",
   "metadata": {},
   "outputs": [],
   "source": [
    "xvals = np.linspace(0,10,1000 + 1)"
   ]
  },
  {
   "cell_type": "code",
   "execution_count": 4,
   "id": "c132d70e",
   "metadata": {},
   "outputs": [],
   "source": [
    "def Linspace(m):\n",
    "    a = 2\n",
    "    b = 18\n",
    "    if m < 0:\n",
    "        return \n",
    "    else:\n",
    "        dx = pow(2,-m)\n",
    "    \n",
    "    n = (b-a)/dx\n",
    "    xvals = np.linspace(a,b,int(n+1))\n",
    "    j1 = (6-a)/dx\n",
    "    j2 = (b-10)/dx\n",
    "    \n",
    "    return xvals[int(j1):int(j2)+1]\n"
   ]
  },
  {
   "cell_type": "code",
   "execution_count": 5,
   "id": "fc7fa403",
   "metadata": {},
   "outputs": [
    {
     "data": {
      "text/plain": [
       "array([10.])"
      ]
     },
     "execution_count": 5,
     "metadata": {},
     "output_type": "execute_result"
    }
   ],
   "source": [
    "xvals[1000:9000+1]"
   ]
  },
  {
   "cell_type": "code",
   "execution_count": 6,
   "id": "759e20a6",
   "metadata": {},
   "outputs": [
    {
     "data": {
      "text/plain": [
       "array([], dtype=float64)"
      ]
     },
     "execution_count": 6,
     "metadata": {},
     "output_type": "execute_result"
    }
   ],
   "source": [
    "xvals[6000:10000+1]"
   ]
  },
  {
   "cell_type": "markdown",
   "id": "a9468631",
   "metadata": {},
   "source": [
    "**Problem 3**: 3pts each - So if we start with a numpy array like\n",
    "\n",
    "`\n",
    "xvals = np.linspace(0.,2.,int(1e3))\n",
    "`\n",
    "\n",
    "then if we wanted to plot $f(x)=x^2$ for $0\\leq x \\leq 2$, we would just have to write \n",
    "\n",
    "`\n",
    "yvals = xvals**2\n",
    "plt.plot(xvals,yvals)\n",
    "`\n",
    "\n",
    "This shows how using NumPy arrays allows us to do arithmetic over multiple points at a time.  \n",
    "\n",
    "3a. Plot $f(x) = x^3 + 3x^2 + 2x + 1$ over $-2\\leq x \\leq 2.1$.  Provide labels and make sure your plot window is well sized and fits the domain over which you are plotting.\n",
    "\n",
    "3b. In Python, write the command to create a NumPy array of points between and including $x=1$ and $11$ with spacing between the points equal to $.1$.  \n",
    "\n",
    "3c. What is the spacing between points in the array `np.linspace(1.3,2.4,int(5e2))`?  Note, do not just print out the points, take the difference, and report the result.  "
   ]
  },
  {
   "cell_type": "markdown",
   "id": "7e65f029",
   "metadata": {},
   "source": [
    "_Answers to Problem 3_"
   ]
  },
  {
   "cell_type": "code",
   "execution_count": 7,
   "id": "fa4f58f7",
   "metadata": {
    "scrolled": true
   },
   "outputs": [
    {
     "data": {
      "text/plain": [
       "Text(0.5, 0, '$x$')"
      ]
     },
     "execution_count": 7,
     "metadata": {},
     "output_type": "execute_result"
    },
    {
     "data": {
      "image/png": "[encoded data removed]",
      "text/plain": [
       "<Figure size 432x288 with 1 Axes>"
      ]
     },
     "metadata": {
      "needs_background": "light"
     },
     "output_type": "display_data"
    }
   ],
   "source": [
    "xvals = np.linspace(-2.,2.1,int(1e3))\n",
    "yvals = xvals**3 + 3*xvals**2 + 2*xvals + 1 \n",
    "plt.plot(xvals,yvals)\n",
    "plt.ylabel(\"$f(x)$\")\n",
    "plt.xlabel(\"$x$\")"
   ]
  },
  {
   "cell_type": "code",
   "execution_count": 8,
   "id": "71899acd",
   "metadata": {},
   "outputs": [],
   "source": [
    "import numpy as np\n",
    "xvals = np.linspace(1,11,int(100+1))"
   ]
  },
  {
   "cell_type": "markdown",
   "id": "1e396aa1",
   "metadata": {},
   "source": [
    "$$\\frac{(2.4-1.3)}{(500-1)} = 0.00220441$$"
   ]
  }
 ],
 "metadata": {
  "kernelspec": {
   "display_name": "Python 3 (ipykernel)",
   "language": "python",
   "name": "python3"
  },
  "language_info": {
   "codemirror_mode": {
    "name": "ipython",
    "version": 3
   },
   "file_extension": ".py",
   "mimetype": "text/x-python",
   "name": "python",
   "nbconvert_exporter": "python",
   "pygments_lexer": "ipython3",
   "version": "3.9.12"
  }
 },
 "nbformat": 4,
 "nbformat_minor": 5
}
