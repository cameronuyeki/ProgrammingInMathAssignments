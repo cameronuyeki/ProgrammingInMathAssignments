{
 "cells": [
  {
   "cell_type": "code",
   "execution_count": 1,
   "metadata": {},
   "outputs": [],
   "source": [
    "import numpy as np"
   ]
  },
  {
   "cell_type": "markdown",
   "metadata": {},
   "source": [
    "# Assignment 1"
   ]
  },
  {
   "cell_type": "markdown",
   "metadata": {},
   "source": [
    "\n",
    "**Problem 1** - 3 pts each:  Write the solution to the following indefinite integrals using LaTeX.  No credit will be awarded for work turned in in any other format.  Follow the model below.\n",
    "$$\n",
    "\\int \\sin(x) dx = -\\cos(x) + C\n",
    "$$\n",
    "\n",
    "<ol>\n",
    "<li>    $$\n",
    "        \\int \\sin^{2}(3x) dx\n",
    "        $$\n",
    "<li>\n",
    "    $$\n",
    "    \\int \\frac{dx}{1+4x^2}\n",
    "    $$\n",
    "<li>\n",
    "    $$\n",
    "    \\int x^{n} dx\n",
    "    $$"
   ]
  },
  {
   "cell_type": "markdown",
   "metadata": {},
   "source": [
    "_Answers to Problem 1_: Write your answers in the lines below using LaTeX.\n",
    "\n",
    "1.1: $$\\frac{1}{2}x - \\frac{1}{12}sin(6x) + C$$\n",
    "\n",
    "1.2:$$\\frac{1}{2}\\arctan(2x) + C$$\n",
    "\n",
    "1.3:$$\\frac{x^{n+1}}{n+1} + C$$"
   ]
  },
  {
   "cell_type": "markdown",
   "metadata": {},
   "source": [
    "**Problem 2** - 3 pts each: Using the classic result for a geometric series that \n",
    "\n",
    "$$\n",
    "\\sum_{n=0}^{\\infty}x^{n} = \\frac{1}{1-x}, ~ \\left|x\\right|<1,\n",
    "$$\n",
    "\n",
    "find the following sums.  Use the above statement of the sum of a geometric series as a model.  Again, use LaTeX to write your answers.  No credit will be given otherwise. \n",
    "\n",
    "<ol>\n",
    "\n",
    "<li> \n",
    "$$\n",
    "\\sum_{j=0}^{\\infty} 3^{j/2}x^{2j}, ~ |x|<\\frac{1}{3^{1/4}}.\n",
    "$$\n",
    "\n",
    "<li>\n",
    "$$\n",
    "\\sum_{j=0}^{\\infty} \\sin^{3j}(x), ~ |x|<\\frac{\\pi}{2}.\n",
    "$$\n",
    "\n",
    "<li>\n",
    "$$\n",
    "\\sum_{j=1}^{\\infty} e^{2jx}, ~ x<0.\n",
    "$$\n"
   ]
  },
  {
   "cell_type": "markdown",
   "metadata": {},
   "source": [
    "_Answers to Problem 2_: Write your answers below using LaTeX.  Again, use the beginning of the problem statement of Problem 2 as a model for your answers.  \n",
    "\n",
    "2.1: $$\n",
    "\\sum_{j=0}^{\\infty} 3^{j/2}x^{2j} = \\sum_{j=0}^{\\infty} \\left(3^{1/2}x^{2}\\right)^{j} = \\frac{1}{1-3^{1/2}x^{2}}, ~ |x|<\\frac{1}{3^{1/4}}.\n",
    "$$\n",
    "\n",
    "2.2:$$\n",
    "\\sum_{j=0}^{\\infty} \\sin^{3j}(x) = \\sum_{j=0}^{\\infty} (\\sin^3)^j(x) = \\frac{1}{1-(sin^{3})^(x)}, ~ |x|<\\frac{\\pi}{2}.\n",
    "$$\n",
    "\n",
    "2.3:$$\n",
    "\\sum_{j=1}^{\\infty} e^{2jx} = \\sum_{j=1}^{\\infty} (e^{2x})^j = \\frac{1}{1-e^{2x}}, ~ |x|< 0.\n",
    "$$"
   ]
  },
  {
   "cell_type": "markdown",
   "metadata": {},
   "source": [
    "**Problem 3** 10 pts: So, if you go ask the right kind of people, they will tell you that you can find $\\pi$ via the following limit. \n",
    "\n",
    "$$\n",
    "\\pi = \\lim_{n\\rightarrow\\infty} \\frac{4}{n^{2}}\\sum_{k=0}^{n}\\sqrt{n^{2}-k^{2}}\n",
    "$$\n",
    "\n",
    "So if I give you the following Python function "
   ]
  },
  {
   "cell_type": "code",
   "execution_count": 2,
   "metadata": {},
   "outputs": [],
   "source": [
    "def pi_approx(n):\n",
    "    tot = 0.\n",
    "    for kk in range(0,int(n)+1):\n",
    "        tot += np.sqrt(n**2.-kk**2.)\n",
    "    return 4.*tot/n**2."
   ]
  },
  {
   "cell_type": "markdown",
   "metadata": {},
   "source": [
    "using a list and a for loop as in the lecture, determine $\\pi$ to 7-correct digits.    "
   ]
  },
  {
   "cell_type": "code",
   "execution_count": 3,
   "metadata": {
    "scrolled": true
   },
   "outputs": [
    {
     "name": "stdout",
     "output_type": "stream",
     "text": [
      "3.304518326248319\n",
      "3.1604170317790454\n",
      "3.1435554669110197\n",
      "3.1417914776113145\n",
      "3.1416126164020275\n",
      "3.141594652413929\n",
      "3.1415928535527593\n"
     ]
    }
   ],
   "source": [
    "import numpy as np\n",
    "values = [1e1, 1e2, 1e3, 1e4, 1e5, 1e6, 1e7] \n",
    "for value in values:\n",
    "    print(pi_approx(value))\n"
   ]
  },
  {
   "cell_type": "markdown",
   "metadata": {},
   "source": [
    "_Provide a justification for your answer using the results from your code here._"
   ]
  },
  {
   "cell_type": "markdown",
   "metadata": {
    "collapsed": true
   },
   "source": [
    "Although I couldn't properly execute my code with the error function, I believe that if I did so, the error function would justify my answer as the larger the values used/tested would allow for more accurate approximations. After printing, it would allow you to obtain the relative error in both floating point and scientific notation to get more accuracy. Furthermore, the use of a for loop comes in handy because instead of having to manually type each iteration, the loop will continue to iterate over the given values stated allowing for better efficiency and to help create our list. "
   ]
  }
 ],
 "metadata": {
  "kernelspec": {
   "display_name": "Python 3 (ipykernel)",
   "language": "python",
   "name": "python3"
  },
  "language_info": {
   "codemirror_mode": {
    "name": "ipython",
    "version": 3
   },
   "file_extension": ".py",
   "mimetype": "text/x-python",
   "name": "python",
   "nbconvert_exporter": "python",
   "pygments_lexer": "ipython3",
   "version": "3.9.12"
  }
 },
 "nbformat": 4,
 "nbformat_minor": 2
}
